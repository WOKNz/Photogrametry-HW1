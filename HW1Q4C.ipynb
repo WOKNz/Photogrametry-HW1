{
 "cells": [
  {
   "cell_type": "markdown",
   "metadata": {
    "collapsed": true,
    "pycharm": {
     "name": "#%% md\n"
    }
   },
   "source": [
    "Import"
   ]
  },
  {
   "cell_type": "code",
   "execution_count": 18,
   "outputs": [],
   "source": [
    "import numpy as np\n",
    "import matplotlib.pyplot as plt"
   ],
   "metadata": {
    "collapsed": false,
    "pycharm": {
     "name": "#%%\n",
     "is_executing": false
    }
   }
  },
  {
   "cell_type": "markdown",
   "source": [
    "Importing files"
   ],
   "metadata": {
    "collapsed": false
   }
  },
  {
   "cell_type": "code",
   "execution_count": 119,
   "outputs": [],
   "source": [
    "l = np.loadtxt('xy_circle.txt')  # Import\n",
    "l_t = np.loadtxt('xy_transformed.txt')"
   ],
   "metadata": {
    "collapsed": false,
    "pycharm": {
     "name": "#%%\n",
     "is_executing": false
    }
   }
  },
  {
   "cell_type": "markdown",
   "source": [
    "Initial Matrices"
   ],
   "metadata": {
    "collapsed": false
   }
  },
  {
   "cell_type": "code",
   "execution_count": 120,
   "outputs": [],
   "source": [
    "def a(l0, l1, varnum):  # Calculating Matrix A for Least Square\n",
    "    result = np.zeros((l0.shape[0]*2, varnum))\n",
    "    result[range(0,result.shape[0],2),0] = 1\n",
    "    result[range(1,result.shape[0],2),1] = 1\n",
    "    result[range(0,result.shape[0],2),2:4] = l0[:,:]\n",
    "    result[range(1,result.shape[0],2),4:6] = l0[:,:]                \n",
    "    return result\n",
    "\n",
    "\n",
    "def La(l1):\n",
    "    result = np.zeros((l1.shape[0]*2,1))\n",
    "    # print(result)\n",
    "    for i in range(l1.shape[0]):\n",
    "        result[i*2, 0] = l1[i,0]\n",
    "        result[i*2+1, 0] = l1[i,1]\n",
    "    return result"
   ],
   "metadata": {
    "collapsed": false,
    "pycharm": {
     "name": "#%%\n",
     "is_executing": false
    }
   }
  },
  {
   "cell_type": "markdown",
   "source": [
    "Advanced Matrices"
   ],
   "metadata": {
    "collapsed": false
   }
  },
  {
   "cell_type": "code",
   "execution_count": 121,
   "outputs": [],
   "source": [
    "def n(lstqA):\n",
    "    return np.dot(lstqA.T, lstqA)\n",
    "\n",
    "def u(lstqA, lstql):\n",
    "    return np.dot(lstqA.T, lstql)\n",
    "\n",
    "def ansx(lstqN, lstqu):\n",
    "    return np.dot(np.linalg.inv(lstqN), lstqu)"
   ],
   "metadata": {
    "collapsed": false,
    "pycharm": {
     "name": "#%%\n",
     "is_executing": false
    }
   }
  },
  {
   "cell_type": "markdown",
   "source": [
    "Creating initial Matrices & Iterative solution"
   ],
   "metadata": {
    "collapsed": false
   }
  },
  {
   "cell_type": "code",
   "execution_count": 125,
   "outputs": [],
   "source": [
    "lstqA = a(l, l_t, 6)\n",
    "# print('A:', lstqA)\n",
    "lstqN = n(lstqA)\n",
    "# print('N:', lstqN)\n",
    "lstqL = La(l_t)\n",
    "# print('L:', lstqL)\n",
    "lstqu = u(lstqA, lstqL)\n",
    "# print('U:', lstqu)\n",
    "ans = ansx(lstqN, lstqu)\n",
    "# print('Ans:', ans)"
   ],
   "metadata": {
    "collapsed": false,
    "pycharm": {
     "name": "#%%\n",
     "is_executing": false
    }
   }
  },
  {
   "cell_type": "markdown",
   "source": [
    "Final Result"
   ],
   "metadata": {
    "collapsed": false
   }
  },
  {
   "cell_type": "code",
   "execution_count": 124,
   "outputs": [
    {
     "name": "stdout",
     "text": [
      "Vector x (a0,a1,a2,b1,b2):\n [[ 1.001]\n [ 2.   ]\n [-0.135]\n [-2.256]\n [ 0.354]\n [ 0.354]]\n"
     ],
     "output_type": "stream"
    }
   ],
   "source": [
    "print('Vector x (a0,a1,a2,b1,b2):\\n', np.round(ans,3))"
   ],
   "metadata": {
    "collapsed": false,
    "pycharm": {
     "name": "#%%\n",
     "is_executing": false
    }
   }
  },
  {
   "cell_type": "code",
   "execution_count": null,
   "outputs": [],
   "source": [
    "\n"
   ],
   "metadata": {
    "collapsed": false,
    "pycharm": {
     "name": "#%%\n",
     "is_executing": false
    }
   }
  }
 ],
 "metadata": {
  "kernelspec": {
   "display_name": "Python 3",
   "language": "python",
   "name": "python3"
  },
  "language_info": {
   "codemirror_mode": {
    "name": "ipython",
    "version": 2
   },
   "file_extension": ".py",
   "mimetype": "text/x-python",
   "name": "python",
   "nbconvert_exporter": "python",
   "pygments_lexer": "ipython2",
   "version": "2.7.6"
  },
  "pycharm": {
   "stem_cell": {
    "cell_type": "raw",
    "source": [],
    "metadata": {
     "collapsed": false
    }
   }
  }
 },
 "nbformat": 4,
 "nbformat_minor": 0
}