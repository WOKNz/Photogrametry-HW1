{
 "cells": [
  {
   "cell_type": "markdown",
   "metadata": {
    "collapsed": true,
    "pycharm": {
     "name": "#%% md\n"
    }
   },
   "source": [
    "Import"
   ]
  },
  {
   "cell_type": "code",
   "execution_count": 18,
   "outputs": [],
   "source": [
    "import numpy as np\n",
    "import matplotlib.pyplot as plt"
   ],
   "metadata": {
    "collapsed": false,
    "pycharm": {
     "name": "#%%\n",
     "is_executing": false
    }
   }
  },
  {
   "cell_type": "markdown",
   "source": [
    "Importing files"
   ],
   "metadata": {
    "collapsed": false
   }
  },
  {
   "cell_type": "code",
   "execution_count": 119,
   "outputs": [],
   "source": [
    "l = np.loadtxt('xy_circle.txt')  # Import\n",
    "l_t = np.loadtxt('xy_transformed.txt')"
   ],
   "metadata": {
    "collapsed": false,
    "pycharm": {
     "name": "#%%\n",
     "is_executing": false
    }
   }
  },
  {
   "cell_type": "markdown",
   "source": [
    "Initial Matrices"
   ],
   "metadata": {
    "collapsed": false
   }
  },
  {
   "cell_type": "code",
   "execution_count": 120,
   "outputs": [],
   "source": [
    "def a(l0, l1, varnum):  # Calculating Matrix A for Least Square\n",
    "    result = np.zeros((l0.shape[0]*2, varnum))\n",
    "    result[range(0,result.shape[0],2),0] = 1\n",
    "    result[range(1,result.shape[0],2),1] = 1\n",
    "    result[range(0,result.shape[0],2),2:4] = l0[:,:]\n",
    "    result[range(1,result.shape[0],2),4:6] = l0[:,:]                \n",
    "    return result\n",
    "\n",
    "\n",
    "def La(l1):\n",
    "    result = np.zeros((l1.shape[0]*2,1))\n",
    "    # print(result)\n",
    "    for i in range(l1.shape[0]):\n",
    "        result[i*2, 0] = l1[i,0]\n",
    "        result[i*2+1, 0] = l1[i,1]\n",
    "    return result"
   ],
   "metadata": {
    "collapsed": false,
    "pycharm": {
     "name": "#%%\n",
     "is_executing": false
    }
   }
  },
  {
   "cell_type": "markdown",
   "source": [
    "Advanced Matrices"
   ],
   "metadata": {
    "collapsed": false
   }
  },
  {
   "cell_type": "code",
   "execution_count": 121,
   "outputs": [],
   "source": [
    "def n(lstqA):\n",
    "    return np.dot(lstqA.T, lstqA)\n",
    "\n",
    "def u(lstqA, lstql):\n",
    "    return np.dot(lstqA.T, lstql)\n",
    "\n",
    "def ansx(lstqN, lstqu):\n",
    "    return np.dot(np.linalg.inv(lstqN), lstqu)"
   ],
   "metadata": {
    "collapsed": false,
    "pycharm": {
     "name": "#%%\n",
     "is_executing": false
    }
   }
  },
  {
   "cell_type": "markdown",
   "source": [
    "Creating initial Matrices & Iterative solution"
   ],
   "metadata": {
    "collapsed": false
   }
  },
  {
   "cell_type": "code",
   "execution_count": 122,
   "outputs": [
    {
     "name": "stdout",
     "text": [
      "A: [[  1.       0.      35.056    2.0619   0.       0.    ]\n [  0.       1.       0.       0.      35.056    2.0619]\n [  1.       0.      32.845   12.223    0.       0.    ]\n [  0.       1.       0.       0.      32.845   12.223 ]\n [  1.       0.      26.803   20.588    0.       0.    ]\n [  0.       1.       0.       0.      26.803   20.588 ]\n [  1.       0.      17.8     25.783    0.       0.    ]\n [  0.       1.       0.       0.      17.8     25.783 ]\n [  1.       0.       7.413   26.933    0.       0.    ]\n [  0.       1.       0.       0.       7.413   26.933 ]\n [  1.       0.      -2.478   23.719    0.       0.    ]\n [  0.       1.       0.       0.      -2.478   23.719 ]\n [  1.       0.     -10.141   16.7      0.       0.    ]\n [  0.       1.       0.       0.     -10.141   16.7   ]\n [  1.       0.     -14.39     7.203    0.       0.    ]\n [  0.       1.       0.       0.     -14.39     7.203 ]\n [  1.       0.     -14.358   -3.177    0.       0.    ]\n [  0.       1.       0.       0.     -14.358   -3.177 ]\n [  1.       0.     -10.148  -12.681    0.       0.    ]\n [  0.       1.       0.       0.     -10.148  -12.681 ]\n [  1.       0.      -2.456  -19.592    0.       0.    ]\n [  0.       1.       0.       0.      -2.456  -19.592 ]\n [  1.       0.       7.483  -22.807    0.       0.    ]\n [  0.       1.       0.       0.       7.483  -22.807 ]\n [  1.       0.      17.744  -21.709    0.       0.    ]\n [  0.       1.       0.       0.      17.744  -21.709 ]\n [  1.       0.      26.775  -16.545    0.       0.    ]\n [  0.       1.       0.       0.      26.775  -16.545 ]\n [  1.       0.      32.85    -8.099    0.       0.    ]\n [  0.       1.       0.       0.      32.85    -8.099 ]]",
      "\nN: [[  15.            0.          150.798        30.6009        0.\n     0.        ]\n [   0.           15.            0.            0.          150.798\n    30.6009    ]\n [ 150.798         0.         6195.996958    309.8830464     0.\n     0.        ]\n [  30.6009        0.          309.8830464  4746.55096261    0.\n     0.        ]\n [   0.          150.798         0.            0.         6195.996958\n   309.8830464 ]\n [   0.           30.6009        0.            0.          309.8830464\n  4746.55096261]]\nL: [[ -8.367]\n [ 15.123]\n [-30.992]\n [ 17.934]\n [-49.05 ]\n [ 18.755]\n [-59.558]\n [ 17.409]\n [-60.754]\n [ 14.143]\n [-52.174]\n [  9.509]\n [-35.309]\n [  4.319]\n [-13.313]\n [ -0.541]\n [ 10.099]\n [ -4.199]\n [ 30.974]\n [ -6.071]\n [ 45.536]\n [ -5.796]\n [ 51.442]\n [ -3.417]\n [ 47.586]\n [  0.597]\n [ 34.722]\n [  5.616]\n [ 14.851]\n [ 10.75 ]]",
      "\nU: [[   -74.307    ]\n [    94.131    ]\n [ -1381.823573 ]\n [-10718.8919103]\n [  2601.691734 ]\n [  1848.9335317]]\nAns: [[ 1.0011529 ]\n [ 1.99988198]\n [-0.13455859]\n [-2.25591819]\n [ 0.35354312]\n [ 0.35355742]]\n"
     ],
     "output_type": "stream"
    }
   ],
   "source": [
    "lstqA = a(l, l_t, 6)\n",
    "print('A:', lstqA)\n",
    "lstqN = n(lstqA)\n",
    "print('N:', lstqN)\n",
    "lstqL = La(l_t)\n",
    "print('L:', lstqL)\n",
    "lstqu = u(lstqA, lstqL)\n",
    "print('U:', lstqu)\n",
    "ans = ansx(lstqN, lstqu)\n",
    "print('Ans:', ans)"
   ],
   "metadata": {
    "collapsed": false,
    "pycharm": {
     "name": "#%%\n",
     "is_executing": false
    }
   }
  },
  {
   "cell_type": "markdown",
   "source": [
    "Final Result"
   ],
   "metadata": {
    "collapsed": false
   }
  },
  {
   "cell_type": "code",
   "execution_count": 124,
   "outputs": [
    {
     "name": "stdout",
     "text": [
      "Vector x (a0,a1,a2,b1,b2):\n [[ 1.001]\n [ 2.   ]\n [-0.135]\n [-2.256]\n [ 0.354]\n [ 0.354]]\n"
     ],
     "output_type": "stream"
    }
   ],
   "source": [
    "print('Vector x (a0,a1,a2,b1,b2):\\n', np.round(ans,3))"
   ],
   "metadata": {
    "collapsed": false,
    "pycharm": {
     "name": "#%%\n",
     "is_executing": false
    }
   }
  },
  {
   "cell_type": "code",
   "execution_count": null,
   "outputs": [],
   "source": [
    "\n"
   ],
   "metadata": {
    "collapsed": false,
    "pycharm": {
     "name": "#%%\n",
     "is_executing": false
    }
   }
  }
 ],
 "metadata": {
  "kernelspec": {
   "display_name": "Python 3",
   "language": "python",
   "name": "python3"
  },
  "language_info": {
   "codemirror_mode": {
    "name": "ipython",
    "version": 2
   },
   "file_extension": ".py",
   "mimetype": "text/x-python",
   "name": "python",
   "nbconvert_exporter": "python",
   "pygments_lexer": "ipython2",
   "version": "2.7.6"
  },
  "pycharm": {
   "stem_cell": {
    "cell_type": "raw",
    "source": [],
    "metadata": {
     "collapsed": false
    }
   }
  }
 },
 "nbformat": 4,
 "nbformat_minor": 0
}