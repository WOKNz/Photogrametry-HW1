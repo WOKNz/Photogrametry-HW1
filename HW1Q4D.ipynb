{
 "cells": [
  {
   "cell_type": "markdown",
   "metadata": {
    "collapsed": true,
    "pycharm": {
     "name": "#%% md\n"
    }
   },
   "source": [
    "Import"
   ]
  },
  {
   "cell_type": "code",
   "execution_count": 100,
   "outputs": [],
   "source": [
    "import numpy as np\n",
    "import matplotlib.pyplot as plt"
   ],
   "metadata": {
    "collapsed": false,
    "pycharm": {
     "name": "#%%\n",
     "is_executing": false
    }
   }
  },
  {
   "cell_type": "markdown",
   "source": [
    "Importing files"
   ],
   "metadata": {
    "collapsed": false
   }
  },
  {
   "cell_type": "code",
   "execution_count": 101,
   "outputs": [
    {
     "data": {
      "text/plain": "(-66.3638, 57.0518, -25.293999999999997, 29.42)"
     },
     "metadata": {},
     "output_type": "execute_result",
     "execution_count": 101
    },
    {
     "data": {
      "text/plain": "<Figure size 432x288 with 1 Axes>",
      "image/png": "[encoded data removed]"
     },
     "metadata": {
      "needs_background": "light"
     },
     "output_type": "display_data"
    }
   ],
   "source": [
    "l = np.loadtxt('xy_circle.txt')  # Import\n",
    "l_t = np.loadtxt('xy_transformed.txt')\n",
    "# print(points_raw)\n",
    "# print(points_t)\n",
    "xdiff = (np.max(l_t[:,0])-np.min(l_t[:,0]))*0.5\n",
    "ydiff = (np.max(l_t[:,1])-np.min(l_t[:,1]))*0.5\n",
    "if xdiff > ydiff:\n",
    "    tempA = xdiff\n",
    "    tempB = ydiff\n",
    "else:\n",
    "    tempB = xdiff\n",
    "    tempA = ydiff\n",
    "x0 = np.hstack((np.mean(l, axis=0), np.array([tempA,tempB, -0.3])))\n",
    "plt.plot(l[:,0],l[:,1],'yo')\n",
    "plt.plot(l_t[:,0],l_t[:,1],'ro')\n",
    "plt.axis('equal')"
   ],
   "metadata": {
    "collapsed": false,
    "pycharm": {
     "name": "#%%\n",
     "is_executing": false
    }
   }
  },
  {
   "cell_type": "markdown",
   "source": [
    "Ellipse function:\n",
    "$\\frac{(x \\cos \\alpha+y \\sin \\alpha)^{2}}{a^{2}}+\\frac{(x \\sin \\alpha-y \\cos \\alpha)^{2}}{b^{2}}=1$\n",
    "\n",
    "Function derivative by variables:\n",
    "$\\frac{\\partial}{\\partial a}\\left(\\frac{(x \\cos (\\alpha)+y \\sin (\\alpha))^{2}}{a^{2}}+\\frac{(x \\sin (\\alpha)-y \\cos (\\alpha))^{2}}{b^{2}}-1\\right)=-\\frac{2(x \\cos (\\alpha)+y \\sin (\\alpha))^{2}}{a^{3}}$\n",
    "$\\frac{\\partial}{\\partial b}\\left(\\frac{(x \\cos (\\alpha)+y \\sin (\\alpha))^{2}}{a^{2}}+\\frac{(x \\sin (\\alpha)-y \\cos (\\alpha))^{2}}{b^{2}}-1\\right)=-\\frac{2(x \\sin (\\alpha)-y \\cos (\\alpha))^{2}}{b^{3}}$\n",
    "$\\begin{aligned} \\frac{\\partial}{\\partial \\alpha}\\left(\\frac{(x \\cos (\\alpha)+y \\sin (\\alpha))^{2}}{a^{2}}+\\frac{(x \\sin (\\alpha)-y \\cos (\\alpha))^{2}}{b^{2}}-1\\right) &=\\\\ \\frac{2\\left(a^{2}-b^{2}\\right)(x \\sin (\\alpha)-y \\cos (\\alpha))(x \\cos (\\alpha)+y \\sin (\\alpha))}{a^{2} b^{2}} \\end{aligned}$\n",
    "\n",
    "\n",
    "Function derivative by measurements:\n",
    "\n",
    "$\\frac{\\partial}{\\partial x}\\left(\\frac{(x \\cos (\\alpha)+y \\sin (\\alpha))^{2}}{a^{2}}+\\frac{(x \\sin (\\alpha)-y \\cos (\\alpha))^{2}}{b^{2}}-1\\right)=$\n",
    "$\\frac{2 \\cos (\\alpha)(x \\cos (\\alpha)+y \\sin (\\alpha))}{a^{2}}+\\frac{2 \\sin (\\alpha)(x \\sin (\\alpha)-y \\cos (\\alpha))}{b^{2}}$\n",
    "$\\\\frac{\\partial \\left(\\frac{(x \\cos (\\alpha )+y \\sin (\\alpha ))^2}{a^2}+\\frac{(x \\sin (\\alpha )-y \\cos (\\alpha ))^2}{b^2}-1\\right)}{\\partial y}=\\frac{2\n",
    "\\sin (\\alpha ) (x \\cos (\\alpha )+y \\sin (\\alpha ))}{a^2}-\\frac{2 \\cos (\\alpha ) (x \\sin (\\alpha )-y \\cos (\\alpha ))}{b^2}\\$"
   ],
   "metadata": {
    "collapsed": false
   }
  },
  {
   "cell_type": "markdown",
   "source": [
    "Derivatives"
   ],
   "metadata": {
    "collapsed": false
   }
  },
  {
   "cell_type": "code",
   "execution_count": 102,
   "outputs": [],
   "source": [
    "def dfdx0(x, y, x0, y0, a, b, alpha):\n",
    "    dy = y-y0\n",
    "    dx = x-x0\n",
    "    return -2*((np.cos(alpha)*(np.cos(alpha)*(dx)+np.sin(alpha)*(dy)))/(a**2)+\\\n",
    "             (np.sin(alpha)*(np.sin(alpha)*(dx)-np.cos(alpha)*(dy)))/(b**2))\n",
    "def dfdy0(x, y, x0, y0, a, b, alpha):\n",
    "    dy = y-y0\n",
    "    dx = x-x0\n",
    "    return ((2*np.cos(alpha)*(np.sin(alpha)*(dx)-np.cos(alpha)*(dy)))/(b**2)-\\\n",
    "             (2*np.sin(alpha)*(np.cos(alpha)*(dx)+np.sin(alpha)*(dy)))/(a**2))\n",
    "def dfdx(x, y, x0, y0, a, b, alpha):\n",
    "    dy = y-y0\n",
    "    dx = x-x0\n",
    "    return ((2*np.cos(alpha)*(np.cos(alpha)*(dx)+np.sin(alpha)*(dy)))/(a**2)+\\\n",
    "             (2*np.sin(alpha)*(np.sin(alpha)*(dx)-np.cos(alpha)*(dy)))/(b**2))\n",
    "def dfdy(x, y, x0, y0, a, b, alpha):\n",
    "    dy = y-y0\n",
    "    dx = x-x0\n",
    "    return ((2*np.sin(alpha)*(np.cos(alpha)*(dx)+np.sin(alpha)*(dy)))/(a**2)-\\\n",
    "             (2*np.cos(alpha)*(np.sin(alpha)*(dx)-np.cos(alpha)*(dy)))/(b**2))\n",
    "def dfda(x, y, x0, y0, a, b, alpha):\n",
    "    dy = y-y0\n",
    "    dx = x-x0\n",
    "    return -(2*(np.cos(alpha)*(dx)+np.sin(alpha)*(dy))**2)/(a**3)\n",
    "def dfdb(x, y, x0, y0, a, b, alpha):\n",
    "    dy = y-y0\n",
    "    dx = x-x0\n",
    "    return -(2*(np.sin(alpha)*(dx)+np.cos(alpha)*(-dy))**2)/(b**3)\n",
    "def dfdalpha(x, y, x0, y0, a, b, alpha):\n",
    "    dy = y-y0\n",
    "    dx = x-x0\n",
    "    return 2*(((np.sin(alpha)*(dx)-np.cos(alpha)*(dy))*(np.cos(alpha)*(dx)+np.sin(alpha)*(dy)))/(b**2)-\\\n",
    "              ((np.sin(alpha)*(dx)-np.cos(alpha)*(dy))*(np.cos(alpha)*(dx)+np.sin(alpha)*(dy)))/(a**2))"
   ],
   "metadata": {
    "collapsed": false,
    "pycharm": {
     "name": "#%%\n",
     "is_executing": false
    }
   }
  },
  {
   "cell_type": "markdown",
   "source": [
    "Initial Matrices"
   ],
   "metadata": {
    "collapsed": false
   }
  },
  {
   "cell_type": "code",
   "execution_count": 103,
   "outputs": [],
   "source": [
    "def a(l0, x0, varnum):  # Calculating Matrix A for Least Square\n",
    "    result = np.zeros((l0.shape[0], varnum))\n",
    "    for i in range(l0.shape[0]):\n",
    "        for j in range(varnum):\n",
    "            if j == 0:\n",
    "                result[i, j] = dfdx0(l0[i,0],l0[i,1],x0[0],x0[1],x0[2],x0[3],x0[4])\n",
    "            elif j == 1:\n",
    "                result[i, j] = dfdy0(l0[i,0],l0[i,1],x0[0],x0[1],x0[2],x0[3],x0[4])\n",
    "            elif j == 2:\n",
    "                result[i, j] = dfda(l0[i,0],l0[i,1],x0[0],x0[1],x0[2],x0[3],x0[4])\n",
    "            elif j == 3:\n",
    "                result[i, j] = dfdb(l0[i,0],l0[i,1],x0[0],x0[1],x0[2],x0[3],x0[4])\n",
    "            elif j == 4:\n",
    "                result[i, j] = dfdalpha(l0[i,0],l0[i,1],x0[0],x0[1],x0[2],x0[3],x0[4])\n",
    "    return result\n",
    "\n",
    "\n",
    "def b(l0, x0):  # Calculating Matrix b for Least Square\n",
    "    result = np.zeros((l0.shape[0], l0.shape[0] * 2))\n",
    "    for i in range(0, l0.shape[0]):\n",
    "        result[i, i * 2] = dfdx(l0[i,0],l0[i,1],x0[0],x0[1],x0[2],x0[3],x0[4])\n",
    "        result[i, i * 2 + 1] = dfdy(l0[i,0],l0[i,1],x0[0],x0[1],x0[2],x0[3],x0[4])\n",
    "    return result\n",
    "\n",
    "\n",
    "def w(l0, x0):  # Calculating Matrix W for Least Square\n",
    "    result = np.zeros((l0.shape[0], 1))\n",
    "    for i in range(l0.shape[0]):\n",
    "        result[i, 0] = ((l0[i,0]-x0[0])*(np.cos(x0[4]))+(l0[i,1]-x0[1])*(np.sin(x0[4])))**2/(x0[2]**2)+\\\n",
    "                       ((l0[i,0]-x0[0])*(np.sin(x0[4]))-(l0[i,1]-x0[1])*(np.cos(x0[4])))**2/(x0[3]**2)-1\n",
    "    return result"
   ],
   "metadata": {
    "collapsed": false,
    "pycharm": {
     "name": "#%%\n",
     "is_executing": false
    }
   }
  },
  {
   "cell_type": "markdown",
   "source": [
    "Advanced Matrices"
   ],
   "metadata": {
    "collapsed": false
   }
  },
  {
   "cell_type": "code",
   "execution_count": 104,
   "outputs": [],
   "source": [
    "\n",
    "def m(lstqB):\n",
    "    return np.dot(lstqB, lstqB.T)\n",
    "\n",
    "def n(lstqA,lstqM):\n",
    "    return np.dot(np.dot(lstqA.T, np.linalg.inv(lstqM)), lstqA)\n",
    "\n",
    "def u(lstqA, lstqM, lstqW):\n",
    "    return np.dot(np.dot(lstqA.T, np.linalg.inv(lstqM)), lstqW)\n",
    "\n",
    "def delta(lstqN, lstqu):\n",
    "    return np.dot(np.linalg.inv(lstqN), lstqu)"
   ],
   "metadata": {
    "collapsed": false,
    "pycharm": {
     "name": "#%%\n",
     "is_executing": false
    }
   }
  },
  {
   "cell_type": "markdown",
   "source": [
    "Creating initial Matrices & Iterative solution"
   ],
   "metadata": {
    "collapsed": false
   }
  },
  {
   "cell_type": "code",
   "execution_count": 105,
   "outputs": [],
   "source": [
    "deltax = np.array([1,1,1,1,1]).T\n",
    "lstqW = np.ones((l_t.shape[0], 1))\n",
    "while np.linalg.norm(deltax) > 0.00001:\n",
    "    # print(x0)\n",
    "    # print(np.linalg.norm(deltax))\n",
    "    # print(np.linalg.norm(lstqW))\n",
    "    lstqA = a(l_t, x0, 5)\n",
    "    lstqB = b(l_t, x0)\n",
    "    lstqW = w(l_t, x0)\n",
    "    lstqM = m(lstqB)\n",
    "    lstqN = n(lstqA, lstqM)\n",
    "    lstqu = u(lstqA, lstqM, lstqW)\n",
    "    deltax = -delta(lstqN, lstqu)\n",
    "    x0 = x0 + deltax[:,0]"
   ],
   "metadata": {
    "collapsed": false,
    "pycharm": {
     "name": "#%%\n",
     "is_executing": false
    }
   }
  },
  {
   "cell_type": "markdown",
   "source": [
    "Final Result"
   ],
   "metadata": {
    "collapsed": false
   }
  },
  {
   "cell_type": "code",
   "execution_count": 110,
   "outputs": [
    {
     "name": "stdout",
     "text": [
      "Vector x (x0,y0,a,b,alpha(rad)): [-4.99   6.274 57.269  8.175 -0.167]\nmax(abs(W): 0.07301026891518433\n"
     ],
     "output_type": "stream"
    },
    {
     "data": {
      "text/plain": "<Figure size 432x288 with 1 Axes>",
      "image/png": "[encoded data removed]"
     },
     "metadata": {
      "needs_background": "light"
     },
     "output_type": "display_data"
    }
   ],
   "source": [
    "print('Vector x (x0,y0,a,b,alpha(rad)):', np.round(x0,3))\n",
    "plt.plot(l_t[:,0],l_t[:,1],'yo')\n",
    "plt.plot(x0[0],x0[1],'go')\n",
    "plt.axis('equal')\n",
    "print('max(abs(W):', np.max(np.sqrt(np.absolute(lstqW))))\n"
   ],
   "metadata": {
    "collapsed": false,
    "pycharm": {
     "name": "#%%\n",
     "is_executing": false
    }
   }
  }
 ],
 "metadata": {
  "kernelspec": {
   "display_name": "Python 3",
   "language": "python",
   "name": "python3"
  },
  "language_info": {
   "codemirror_mode": {
    "name": "ipython",
    "version": 2
   },
   "file_extension": ".py",
   "mimetype": "text/x-python",
   "name": "python",
   "nbconvert_exporter": "python",
   "pygments_lexer": "ipython2",
   "version": "2.7.6"
  },
  "pycharm": {
   "stem_cell": {
    "cell_type": "raw",
    "source": [],
    "metadata": {
     "collapsed": false
    }
   }
  }
 },
 "nbformat": 4,
 "nbformat_minor": 0
}