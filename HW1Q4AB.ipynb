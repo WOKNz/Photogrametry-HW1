{
 "cells": [
  {
   "cell_type": "markdown",
   "source": [
    "Import"
   ],
   "metadata": {
    "collapsed": false,
    "pycharm": {
     "name": "#%% md\n"
    }
   }
  },
  {
   "cell_type": "code",
   "execution_count": 2,
   "outputs": [],
   "source": [
    "import numpy as np\n",
    "import matplotlib.pyplot as plt"
   ],
   "metadata": {
    "collapsed": false,
    "pycharm": {
     "name": "#%%\n",
     "is_executing": false
    }
   }
  },
  {
   "cell_type": "markdown",
   "source": [
    "Importing files"
   ],
   "metadata": {
    "collapsed": false,
    "pycharm": {
     "name": "#%% md\n"
    }
   }
  },
  {
   "cell_type": "code",
   "execution_count": 3,
   "outputs": [
    {
     "data": {
      "text/plain": "(-16.8623, 37.528299999999994, -25.293999999999997, 29.42)"
     },
     "metadata": {},
     "output_type": "execute_result",
     "execution_count": 3
    },
    {
     "data": {
      "text/plain": "<Figure size 432x288 with 1 Axes>",
      "image/png": "[encoded data removed]"
     },
     "metadata": {
      "needs_background": "light"
     },
     "output_type": "display_data"
    }
   ],
   "source": [
    "l = np.loadtxt('xy_circle.txt')  # Import\n",
    "points_t = np.loadtxt('xy_transformed.txt')\n",
    "# print(points_raw)\n",
    "# print(points_t)\n",
    "x0 = np.hstack((np.mean(l, axis=0), np.array([(np.max(l[:,0])-np.min(l[:,0]))*0.5])))\n",
    "plt.plot(l[:,0],l[:,1],'yo')\n",
    "plt.axis('equal')\n"
   ],
   "metadata": {
    "collapsed": false,
    "pycharm": {
     "name": "#%%\n",
     "is_executing": false
    }
   }
  },
  {
   "cell_type": "markdown",
   "source": [
    "Circle function:\n",
    "$\\left( \\text{x}-\\text{x}_0 \\right) ^2+\\left( \\text{y}-\\text{y}_0 \\right) ^2=\\text{R}^2$\n",
    "\n",
    "Function derivative by variables:\n",
    "$$\\frac{\\partial \\text{f}}{\\partial \\text{x}}=-2\\left( \\text{x}-\\text{x}_0 \\right) ,-2\\left( \\text{y}-\\text{y}_0 \\right) ,-2\\text{R}_0$$\n",
    "\n",
    "Function derivative by measurements:\n",
    "$$\\frac{\\partial \\text{f}}{\\partial \\text{l}}=2\\left( \\text{x}-\\text{x}_0 \\right) ,2\\left( \\text{y}-\\text{y}_0 \\right) $$"
   ],
   "metadata": {
    "collapsed": false
   }
  },
  {
   "cell_type": "markdown",
   "source": [
    "Initial Matrices"
   ],
   "metadata": {
    "collapsed": false
   }
  },
  {
   "cell_type": "code",
   "source": [
    "def a(l0, x0, varnum):  # Calculating Matrix A for Least Square\n",
    "    result = np.zeros((l0.shape[0], varnum))\n",
    "    for i in range(l0.shape[0]):\n",
    "        for j in range(varnum):\n",
    "            if j == 0:\n",
    "                result[i, j] = -2 * (l0[i, j] - x0[j])\n",
    "            elif j == 1:\n",
    "                result[i, j] = -2 * (l0[i, j] - x0[j])\n",
    "\n",
    "            elif j == 2:\n",
    "                result[i, j] = -2 * (x0[j])\n",
    "    return result\n",
    "\n",
    "\n",
    "def b(l0, x0):  # Calculating Matrix b for Least Square\n",
    "    result = np.zeros((l0.shape[0], l0.shape[0] * 2))\n",
    "    for i in range(0, l0.shape[0]):\n",
    "        result[i, i * 2] = 2 * (l0[i, 0] - x0[0])\n",
    "        result[i, i * 2 + 1] = 2 * (l0[i, 1] - x0[1])\n",
    "    return result\n",
    "\n",
    "\n",
    "def w(l0, x0):  # Calculating Matrix W for Least Square\n",
    "    result = np.zeros((l0.shape[0], 1))\n",
    "    for i in range(l0.shape[0]):\n",
    "        result[i, 0] = (l0[i, 0] - x0[0]) ** 2 + (l0[i, 1] - x0[1]) ** 2 - x0[2] ** 2\n",
    "    return result"
   ],
   "metadata": {
    "collapsed": false,
    "pycharm": {
     "name": "#%%\n",
     "is_executing": false
    }
   },
   "execution_count": 4,
   "outputs": []
  },
  {
   "cell_type": "markdown",
   "source": [
    "Advanced Matrices"
   ],
   "metadata": {
    "collapsed": false,
    "pycharm": {
     "name": "#%% md\n"
    }
   }
  },
  {
   "cell_type": "code",
   "execution_count": 5,
   "outputs": [],
   "source": [
    "\n",
    "def m(lstqB):\n",
    "    return np.dot(lstqB, lstqB.T)\n",
    "\n",
    "def n(lstqA,lstqM):\n",
    "    return np.dot(np.dot(lstqA.T, np.linalg.inv(lstqM)), lstqA)\n",
    "\n",
    "def u(lstqA, lstqM, lstqW):\n",
    "    return np.dot(np.dot(lstqA.T, np.linalg.inv(lstqM)), lstqW)\n",
    "\n",
    "def delta(lstqN, lstqu):\n",
    "    return np.dot(np.linalg.inv(lstqN), lstqu)"
   ],
   "metadata": {
    "collapsed": false,
    "pycharm": {
     "name": "#%%\n",
     "is_executing": false
    }
   }
  },
  {
   "cell_type": "markdown",
   "source": [
    "Creating initial Matrices & Iterative solution"
   ],
   "metadata": {
    "collapsed": false,
    "pycharm": {
     "name": "#%% md\n"
    }
   }
  },
  {
   "cell_type": "code",
   "execution_count": 6,
   "outputs": [],
   "source": [
    "deltax = np.array([1,1,1]).T\n",
    "lstqW = np.ones((l.shape[0], 1))\n",
    "while np.linalg.norm(deltax) > 0.0001:\n",
    "    #print(x0)\n",
    "    # print(np.linalg.norm(deltax))\n",
    "    # print(np.linalg.norm(lstqW))\n",
    "    # print(deltax)\n",
    "    # print(x0)\n",
    "    # print(lstqW,'\\n')\n",
    "    lstqA = a(l, x0, 3)\n",
    "    lstqB = b(l, x0)\n",
    "    lstqW = w(l, x0)\n",
    "    lstqM = m(lstqB)\n",
    "    lstqN = n(lstqA, lstqM)\n",
    "    lstqu = u(lstqA, lstqM, lstqW)\n",
    "    deltax = -delta(lstqN, lstqu)\n",
    "    x0 = x0 + deltax[:,0]"
   ],
   "metadata": {
    "collapsed": false,
    "pycharm": {
     "name": "#%%\n",
     "is_executing": false
    }
   }
  },
  {
   "cell_type": "markdown",
   "source": [
    "Final Result"
   ],
   "metadata": {
    "collapsed": false,
    "pycharm": {
     "name": "#%% md\n",
     "is_executing": false
    }
   }
  },
  {
   "cell_type": "code",
   "execution_count": 7,
   "outputs": [
    {
     "name": "stdout",
     "text": [
      "Vector x (x0,y0,R): [10.05   2.052 24.985]\nSig postriory [[0.02696572]]\n"
     ],
     "output_type": "stream"
    },
    {
     "data": {
      "text/plain": "<Figure size 432x288 with 1 Axes>",
      "image/png": "[encoded data removed]"
     },
     "metadata": {
      "needs_background": "light"
     },
     "output_type": "display_data"
    }
   ],
   "source": [
    "print('Vector x (x0,y0,R):', np.round(x0,3))\n",
    "plt.plot(l[:,0],l[:,1],'yo')\n",
    "plt.plot(x0[0],x0[1],'go')\n",
    "plt.axis('equal')\n",
    "lstqV = np.dot(np.dot(lstqB.T,np.linalg.inv(lstqM)),np.dot(lstqA,deltax)+lstqW)\n",
    "sigpost = (1/(l.shape[0]-3))*np.dot(lstqV.T,lstqV)\n",
    "#print('max(abs(W):', np.max(np.sqrt(np.absolute(lstqW))))\n",
    "print('Sig postriory', np.sqrt(sigpost))\n"
   ],
   "metadata": {
    "collapsed": false,
    "pycharm": {
     "name": "#%%\n",
     "is_executing": false
    }
   }
  }
 ],
 "metadata": {
  "kernelspec": {
   "display_name": "Python 3",
   "language": "python",
   "name": "python3"
  },
  "language_info": {
   "codemirror_mode": {
    "name": "ipython",
    "version": 2
   },
   "file_extension": ".py",
   "mimetype": "text/x-python",
   "name": "python",
   "nbconvert_exporter": "python",
   "pygments_lexer": "ipython2",
   "version": "2.7.6"
  },
  "pycharm": {
   "stem_cell": {
    "cell_type": "raw",
    "source": [],
    "metadata": {
     "collapsed": false
    }
   }
  }
 },
 "nbformat": 4,
 "nbformat_minor": 0
}